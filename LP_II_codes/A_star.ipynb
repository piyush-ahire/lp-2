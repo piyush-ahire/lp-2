{
 "cells": [
  {
   "cell_type": "code",
   "execution_count": 2,
   "id": "7b290900-bad9-4c4d-9f3d-1f16ce9883ed",
   "metadata": {},
   "outputs": [
    {
     "name": "stdin",
     "output_type": "stream",
     "text": [
      "Enter the N Value :  4\n"
     ]
    },
    {
     "name": "stdout",
     "output_type": "stream",
     "text": [
      "Solution : (1, 3, 0, 2)\n"
     ]
    }
   ],
   "source": [
    "#A_star algorithm\n",
    "# Define the N-Queens problem\n",
    "class NQueensProblem:\n",
    "    def __init__(self, n):\n",
    "        self.n = n\n",
    "\n",
    "    def transition(self, state):\n",
    "        # Generate all valid successor states from the current state\n",
    "        # (Move each queen to a different row in its column)\n",
    "        successors = []\n",
    "        for col in range(self.n):\n",
    "            for row in range(self.n):\n",
    "                if row != state[col]:\n",
    "                    successor = state[:col] + (row,) + state[col + 1:]\n",
    "                    successors.append(successor)\n",
    "        return successors\n",
    "\n",
    "    def cost(self, state):\n",
    "        # Calculate the number of attacked queens\n",
    "        attacked_queens = 0\n",
    "        for i in range(self.n):\n",
    "            for j in range(i + 1, self.n):\n",
    "                if state[i] == state[j] or abs(state[i] - state[j]) == j - i:\n",
    "                    attacked_queens += 1\n",
    "        return attacked_queens\n",
    "\n",
    "    def heuristic(self, state):\n",
    "        # Heuristic: Number of attacked queens\n",
    "        return self.cost(state)\n",
    "\n",
    "# A* search\n",
    "def a_star_search(problem):\n",
    "    start_state = tuple(range(problem.n))  \n",
    "    # Initial state (all queens in different rows)\n",
    "    open_set = [(problem.heuristic(start_state), start_state)]  \n",
    "    # Priority queue\n",
    "    closed_set = set()\n",
    "\n",
    "    while open_set:\n",
    "        _, current_state = open_set.pop(0)  \n",
    "        # Get state with lowest f(n) value\n",
    "        if current_state not in closed_set:\n",
    "            closed_set.add(current_state)\n",
    "            if problem.cost(current_state) == 0:\n",
    "                return current_state  # Found a solution\n",
    "            successors = problem.transition(current_state)\n",
    "            for successor in successors:\n",
    "                f_value = problem.cost(successor) + problem.heuristic(successor)\n",
    "                open_set.append((f_value, successor))\n",
    "            open_set.sort()  \n",
    "            # Sort by f(n) value\n",
    "\n",
    "    return None  \n",
    "\n",
    "# Driver Code\n",
    "if __name__ == \"__main__\":\n",
    "    n = int(input(\"Enter the N Value : \"))  \n",
    "    n_queens_problem = NQueensProblem(n)\n",
    "    solution = a_star_search(n_queens_problem)\n",
    "    print(\"Solution :\", solution)\n"
   ]
  },
  {
   "cell_type": "code",
   "execution_count": null,
   "id": "6ae44ccc-b1f6-43e7-b802-e6f315fc0b6b",
   "metadata": {},
   "outputs": [],
   "source": []
  }
 ],
 "metadata": {
  "kernelspec": {
   "display_name": "Python 3 (ipykernel)",
   "language": "python",
   "name": "python3"
  },
  "language_info": {
   "codemirror_mode": {
    "name": "ipython",
    "version": 3
   },
   "file_extension": ".py",
   "mimetype": "text/x-python",
   "name": "python",
   "nbconvert_exporter": "python",
   "pygments_lexer": "ipython3",
   "version": "3.11.7"
  }
 },
 "nbformat": 4,
 "nbformat_minor": 5
}
