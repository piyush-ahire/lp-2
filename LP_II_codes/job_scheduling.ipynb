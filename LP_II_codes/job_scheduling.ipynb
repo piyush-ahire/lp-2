{
 "cells": [
  {
   "cell_type": "code",
   "execution_count": 1,
   "id": "5dbc89c6-22c5-4135-8127-18b9b66128da",
   "metadata": {},
   "outputs": [
    {
     "name": "stdin",
     "output_type": "stream",
     "text": [
      "Enter the number of jobs:  5\n",
      "Enter the profit of job 1:  200\n",
      "Enter the name of job 1:  j1\n",
      "Enter the deadline of job 1:  3\n",
      "Enter the profit of job 2:  10\n",
      "Enter the name of job 2:  j2\n",
      "Enter the deadline of job 2:  1\n",
      "Enter the profit of job 3:  15\n",
      "Enter the name of job 3:  j3\n",
      "Enter the deadline of job 3:  2\n",
      "Enter the profit of job 4:  5\n",
      "Enter the name of job 4:  j4\n",
      "Enter the deadline of job 4:  1\n",
      "Enter the profit of job 5:  30\n",
      "Enter the name of job 5:  j5\n",
      "Enter the deadline of job 5:  3\n"
     ]
    },
    {
     "name": "stdout",
     "output_type": "stream",
     "text": [
      "Jobs scheduled: ['j3', 'j5', 'j1', 'null', 'null']\n",
      "Total profit: 245\n"
     ]
    }
   ],
   "source": [
    "profit = []\n",
    "jobs = []\n",
    "deadline = []\n",
    "\n",
    "n = int(input(\"Enter the number of jobs: \"))\n",
    "\n",
    "if n <= 0:\n",
    "    print(\"Invalid number of jobs.\")\n",
    "    exit()\n",
    "\n",
    "for i in range(n):\n",
    "    p = int(input(\"Enter the profit of job {}: \".format(i+1)))\n",
    "    profit.append(p)\n",
    "    j = input(\"Enter the name of job {}: \".format(i+1))\n",
    "    jobs.append(j)\n",
    "    d = int(input(\"Enter the deadline of job {}: \".format(i+1)))\n",
    "    deadline.append(d)\n",
    "\n",
    "profitNJobs = list(zip(profit, jobs, deadline))\n",
    "profitNJobs = sorted(profitNJobs, key=lambda x: x[0], reverse=True)\n",
    "\n",
    "slots = [False] * (n + 1)\n",
    "total_profit = 0\n",
    "schedule = ['null'] * (n + 1)\n",
    "\n",
    "for i in range(n):\n",
    "    job = profitNJobs[i]\n",
    "    for j in range(min(job[2], n), 0, -1):\n",
    "        if not slots[j]:\n",
    "            schedule[j] = job[1]\n",
    "            total_profit += job[0]\n",
    "            slots[j] = True\n",
    "            break\n",
    "\n",
    "print(\"Jobs scheduled:\", schedule[1:])\n",
    "print(\"Total profit:\", total_profit)\n"
   ]
  },
  {
   "cell_type": "code",
   "execution_count": null,
   "id": "837e44cd-dce2-4656-89a0-a4802f8faf22",
   "metadata": {},
   "outputs": [],
   "source": []
  }
 ],
 "metadata": {
  "kernelspec": {
   "display_name": "Python 3 (ipykernel)",
   "language": "python",
   "name": "python3"
  },
  "language_info": {
   "codemirror_mode": {
    "name": "ipython",
    "version": 3
   },
   "file_extension": ".py",
   "mimetype": "text/x-python",
   "name": "python",
   "nbconvert_exporter": "python",
   "pygments_lexer": "ipython3",
   "version": "3.11.7"
  }
 },
 "nbformat": 4,
 "nbformat_minor": 5
}
