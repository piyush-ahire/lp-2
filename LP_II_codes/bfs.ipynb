{
 "cells": [
  {
   "cell_type": "code",
   "execution_count": 1,
   "id": "f25d4892-25fb-4f11-abb6-73b0711e9442",
   "metadata": {},
   "outputs": [
    {
     "name": "stdin",
     "output_type": "stream",
     "text": [
      "Enter val for root node:  1\n",
      "Enter left child val for 1 (or type 'none'):  2\n",
      "Enter right child val for 1 (or type 'none'):  3\n",
      "Enter left child val for 2 (or type 'none'):  4\n",
      "Enter right child val for 2 (or type 'none'):  5\n",
      "Enter left child val for 3 (or type 'none'):  none\n",
      "Enter right child val for 3 (or type 'none'):  none\n",
      "Enter left child val for 4 (or type 'none'):  none\n",
      "Enter right child val for 4 (or type 'none'):  none\n",
      "Enter left child val for 5 (or type 'none'):  none\n",
      "Enter right child val for 5 (or type 'none'):  none\n",
      "Enter the value of the goal node:  5\n"
     ]
    },
    {
     "name": "stdout",
     "output_type": "stream",
     "text": [
      "Path from root to goal node 5: [1, 2, 5]\n"
     ]
    }
   ],
   "source": [
    "#bfs algorithm\n",
    "class TreeNode:\n",
    "    def __init__(self, value):\n",
    "        self.value = value\n",
    "        self.left = None\n",
    "        self.right = None\n",
    "        self.parent = None\n",
    "\n",
    "def bfs_tree(root, goal):\n",
    "    if not root:\n",
    "        return None\n",
    "        \n",
    "    queue = [(root, None)]   \n",
    "    visited = set()\n",
    "    \n",
    "    while queue:\n",
    "        cur_node, parent = queue.pop(0)\n",
    "        visited.add(cur_node)\n",
    "        \n",
    "        if cur_node.value == goal:\n",
    "            path = [cur_node.value]\n",
    "            while cur_node.parent:\n",
    "                cur_node = cur_node.parent\n",
    "                path.append(cur_node.value)\n",
    "            path.reverse()\n",
    "            return path\n",
    "        \n",
    "        if cur_node.left and cur_node.left not in visited:\n",
    "            cur_node.left.parent = cur_node\n",
    "            queue.append((cur_node.left, cur_node))\n",
    "        if cur_node.right and cur_node.right not in visited:\n",
    "            cur_node.right.parent = cur_node\n",
    "            queue.append((cur_node.right, cur_node))\n",
    "                \n",
    "    return None\n",
    "\n",
    "def build_binary_tree():\n",
    "    root_value = int(input(\"Enter val for root node: \"))\n",
    "    root = TreeNode(root_value)\n",
    "    \n",
    "    nodes_to_process = [root]\n",
    "    \n",
    "    while nodes_to_process:\n",
    "        cur_node = nodes_to_process.pop(0)\n",
    "        \n",
    "        left_value = input(f\"Enter left child val for {cur_node.value} (or type 'none'): \")\n",
    "        \n",
    "        if left_value.lower() != 'none':\n",
    "            cur_node.left = TreeNode(int(left_value))\n",
    "            cur_node.left.parent = cur_node\n",
    "            nodes_to_process.append(cur_node.left)\n",
    "                           \n",
    "        right_value = input(f\"Enter right child val for {cur_node.value} (or type 'none'): \")\n",
    "        \n",
    "        if right_value.lower() != 'none':\n",
    "            cur_node.right = TreeNode(int(right_value))\n",
    "            cur_node.right.parent = cur_node\n",
    "            nodes_to_process.append(cur_node.right)\n",
    "            \n",
    "    return root\n",
    "\n",
    "root_node = build_binary_tree()\n",
    "\n",
    "goal_node = int(input(\"Enter the value of the goal node: \"))\n",
    "\n",
    "path = bfs_tree(root_node, goal_node)\n",
    "\n",
    "if path:\n",
    "    print(f\"Path from root to goal node {goal_node}: {path}\")\n",
    "else:\n",
    "    print(\"Goal node not found in the tree.\")\n"
   ]
  },
  {
   "cell_type": "code",
   "execution_count": null,
   "id": "0265b425-a1b9-4333-b685-58a7d6e918ee",
   "metadata": {},
   "outputs": [],
   "source": []
  }
 ],
 "metadata": {
  "kernelspec": {
   "display_name": "Python 3 (ipykernel)",
   "language": "python",
   "name": "python3"
  },
  "language_info": {
   "codemirror_mode": {
    "name": "ipython",
    "version": 3
   },
   "file_extension": ".py",
   "mimetype": "text/x-python",
   "name": "python",
   "nbconvert_exporter": "python",
   "pygments_lexer": "ipython3",
   "version": "3.11.7"
  }
 },
 "nbformat": 4,
 "nbformat_minor": 5
}
