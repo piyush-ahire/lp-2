{
 "cells": [
  {
   "cell_type": "code",
   "execution_count": 1,
   "id": "71341b68",
   "metadata": {
    "scrolled": true
   },
   "outputs": [
    {
     "name": "stdout",
     "output_type": "stream",
     "text": [
      "Requirement already satisfied: yfinance in c:\\users\\lenovo\\appdata\\roaming\\python\\python311\\site-packages (0.2.37)\n",
      "Requirement already satisfied: pandas>=1.3.0 in c:\\users\\lenovo\\anaconda3\\lib\\site-packages (from yfinance) (1.5.3)\n",
      "Requirement already satisfied: numpy>=1.16.5 in c:\\users\\lenovo\\anaconda3\\lib\\site-packages (from yfinance) (1.24.3)\n",
      "Requirement already satisfied: requests>=2.31 in c:\\users\\lenovo\\appdata\\roaming\\python\\python311\\site-packages (from yfinance) (2.31.0)\n",
      "Requirement already satisfied: multitasking>=0.0.7 in c:\\users\\lenovo\\appdata\\roaming\\python\\python311\\site-packages (from yfinance) (0.0.11)\n",
      "Requirement already satisfied: lxml>=4.9.1 in c:\\users\\lenovo\\anaconda3\\lib\\site-packages (from yfinance) (4.9.2)\n",
      "Requirement already satisfied: appdirs>=1.4.4 in c:\\users\\lenovo\\anaconda3\\lib\\site-packages (from yfinance) (1.4.4)\n",
      "Requirement already satisfied: pytz>=2022.5 in c:\\users\\lenovo\\anaconda3\\lib\\site-packages (from yfinance) (2022.7)\n",
      "Requirement already satisfied: frozendict>=2.3.4 in c:\\users\\lenovo\\appdata\\roaming\\python\\python311\\site-packages (from yfinance) (2.4.2)\n",
      "Requirement already satisfied: peewee>=3.16.2 in c:\\users\\lenovo\\appdata\\roaming\\python\\python311\\site-packages (from yfinance) (3.17.1)\n",
      "Requirement already satisfied: beautifulsoup4>=4.11.1 in c:\\users\\lenovo\\anaconda3\\lib\\site-packages (from yfinance) (4.12.2)\n",
      "Requirement already satisfied: html5lib>=1.1 in c:\\users\\lenovo\\appdata\\roaming\\python\\python311\\site-packages (from yfinance) (1.1)\n",
      "Requirement already satisfied: soupsieve>1.2 in c:\\users\\lenovo\\anaconda3\\lib\\site-packages (from beautifulsoup4>=4.11.1->yfinance) (2.4)\n",
      "Requirement already satisfied: six>=1.9 in c:\\users\\lenovo\\anaconda3\\lib\\site-packages (from html5lib>=1.1->yfinance) (1.16.0)\n",
      "Requirement already satisfied: webencodings in c:\\users\\lenovo\\anaconda3\\lib\\site-packages (from html5lib>=1.1->yfinance) (0.5.1)\n",
      "Requirement already satisfied: python-dateutil>=2.8.1 in c:\\users\\lenovo\\anaconda3\\lib\\site-packages (from pandas>=1.3.0->yfinance) (2.8.2)\n",
      "Requirement already satisfied: charset-normalizer<4,>=2 in c:\\users\\lenovo\\anaconda3\\lib\\site-packages (from requests>=2.31->yfinance) (2.0.4)\n",
      "Requirement already satisfied: idna<4,>=2.5 in c:\\users\\lenovo\\anaconda3\\lib\\site-packages (from requests>=2.31->yfinance) (3.4)\n",
      "Requirement already satisfied: urllib3<3,>=1.21.1 in c:\\users\\lenovo\\anaconda3\\lib\\site-packages (from requests>=2.31->yfinance) (1.26.16)\n",
      "Requirement already satisfied: certifi>=2017.4.17 in c:\\users\\lenovo\\anaconda3\\lib\\site-packages (from requests>=2.31->yfinance) (2023.5.7)\n",
      "Note: you may need to restart the kernel to use updated packages.\n"
     ]
    }
   ],
   "source": [
    "pip install yfinance --user"
   ]
  },
  {
   "cell_type": "code",
   "execution_count": 2,
   "id": "3e0589a2",
   "metadata": {},
   "outputs": [],
   "source": [
    "import numpy as np\n",
    "import pandas as pd\n",
    "import matplotlib.pyplot as plt\n",
    "import yfinance as yf\n",
    "\n",
    "google = yf.Ticker(\"GOOG\")"
   ]
  },
  {
   "cell_type": "code",
   "execution_count": 3,
   "id": "278a0e01",
   "metadata": {},
   "outputs": [
    {
     "name": "stdout",
     "output_type": "stream",
     "text": [
      "                                 Open        High         Low       Close  \\\n",
      "Datetime                                                                    \n",
      "2024-05-03 09:30:00-04:00  168.949997  168.949997  168.949997  168.949997   \n",
      "2024-05-03 09:31:00-04:00  168.990005  169.559998  168.970001  169.220001   \n",
      "2024-05-03 09:32:00-04:00  169.240005  169.509995  169.190002  169.270004   \n",
      "2024-05-03 09:33:00-04:00  169.250000  169.559998  168.850006  168.929993   \n",
      "2024-05-03 09:34:00-04:00  168.929993  169.059998  168.520004  168.520004   \n",
      "\n",
      "                           Volume  Dividends  Stock Splits  \n",
      "Datetime                                                    \n",
      "2024-05-03 09:30:00-04:00  949167        0.0           0.0  \n",
      "2024-05-03 09:31:00-04:00  144105        0.0           0.0  \n",
      "2024-05-03 09:32:00-04:00  100702        0.0           0.0  \n",
      "2024-05-03 09:33:00-04:00   86451        0.0           0.0  \n",
      "2024-05-03 09:34:00-04:00   74332        0.0           0.0  \n"
     ]
    }
   ],
   "source": [
    "df = google.history(period='1d', interval=\"1m\")\n",
    "print(df.head())"
   ]
  },
  {
   "cell_type": "code",
   "execution_count": 4,
   "id": "f7113073",
   "metadata": {},
   "outputs": [
    {
     "data": {
      "text/html": [
       "<div>\n",
       "<style scoped>\n",
       "    .dataframe tbody tr th:only-of-type {\n",
       "        vertical-align: middle;\n",
       "    }\n",
       "\n",
       "    .dataframe tbody tr th {\n",
       "        vertical-align: top;\n",
       "    }\n",
       "\n",
       "    .dataframe thead th {\n",
       "        text-align: right;\n",
       "    }\n",
       "</style>\n",
       "<table border=\"1\" class=\"dataframe\">\n",
       "  <thead>\n",
       "    <tr style=\"text-align: right;\">\n",
       "      <th></th>\n",
       "      <th>Open</th>\n",
       "      <th>High</th>\n",
       "      <th>Low</th>\n",
       "      <th>Close</th>\n",
       "      <th>Volume</th>\n",
       "      <th>Dividends</th>\n",
       "      <th>Stock Splits</th>\n",
       "    </tr>\n",
       "    <tr>\n",
       "      <th>Datetime</th>\n",
       "      <th></th>\n",
       "      <th></th>\n",
       "      <th></th>\n",
       "      <th></th>\n",
       "      <th></th>\n",
       "      <th></th>\n",
       "      <th></th>\n",
       "    </tr>\n",
       "  </thead>\n",
       "  <tbody>\n",
       "    <tr>\n",
       "      <th>2024-05-03 09:30:00-04:00</th>\n",
       "      <td>168.949997</td>\n",
       "      <td>168.949997</td>\n",
       "      <td>168.949997</td>\n",
       "      <td>168.949997</td>\n",
       "      <td>949167</td>\n",
       "      <td>0.0</td>\n",
       "      <td>0.0</td>\n",
       "    </tr>\n",
       "    <tr>\n",
       "      <th>2024-05-03 09:31:00-04:00</th>\n",
       "      <td>168.990005</td>\n",
       "      <td>169.559998</td>\n",
       "      <td>168.970001</td>\n",
       "      <td>169.220001</td>\n",
       "      <td>144105</td>\n",
       "      <td>0.0</td>\n",
       "      <td>0.0</td>\n",
       "    </tr>\n",
       "    <tr>\n",
       "      <th>2024-05-03 09:32:00-04:00</th>\n",
       "      <td>169.240005</td>\n",
       "      <td>169.509995</td>\n",
       "      <td>169.190002</td>\n",
       "      <td>169.270004</td>\n",
       "      <td>100702</td>\n",
       "      <td>0.0</td>\n",
       "      <td>0.0</td>\n",
       "    </tr>\n",
       "    <tr>\n",
       "      <th>2024-05-03 09:33:00-04:00</th>\n",
       "      <td>169.250000</td>\n",
       "      <td>169.559998</td>\n",
       "      <td>168.850006</td>\n",
       "      <td>168.929993</td>\n",
       "      <td>86451</td>\n",
       "      <td>0.0</td>\n",
       "      <td>0.0</td>\n",
       "    </tr>\n",
       "    <tr>\n",
       "      <th>2024-05-03 09:34:00-04:00</th>\n",
       "      <td>168.929993</td>\n",
       "      <td>169.059998</td>\n",
       "      <td>168.520004</td>\n",
       "      <td>168.520004</td>\n",
       "      <td>74332</td>\n",
       "      <td>0.0</td>\n",
       "      <td>0.0</td>\n",
       "    </tr>\n",
       "  </tbody>\n",
       "</table>\n",
       "</div>"
      ],
      "text/plain": [
       "                                 Open        High         Low       Close  \\\n",
       "Datetime                                                                    \n",
       "2024-05-03 09:30:00-04:00  168.949997  168.949997  168.949997  168.949997   \n",
       "2024-05-03 09:31:00-04:00  168.990005  169.559998  168.970001  169.220001   \n",
       "2024-05-03 09:32:00-04:00  169.240005  169.509995  169.190002  169.270004   \n",
       "2024-05-03 09:33:00-04:00  169.250000  169.559998  168.850006  168.929993   \n",
       "2024-05-03 09:34:00-04:00  168.929993  169.059998  168.520004  168.520004   \n",
       "\n",
       "                           Volume  Dividends  Stock Splits  \n",
       "Datetime                                                    \n",
       "2024-05-03 09:30:00-04:00  949167        0.0           0.0  \n",
       "2024-05-03 09:31:00-04:00  144105        0.0           0.0  \n",
       "2024-05-03 09:32:00-04:00  100702        0.0           0.0  \n",
       "2024-05-03 09:33:00-04:00   86451        0.0           0.0  \n",
       "2024-05-03 09:34:00-04:00   74332        0.0           0.0  "
      ]
     },
     "execution_count": 4,
     "metadata": {},
     "output_type": "execute_result"
    }
   ],
   "source": [
    "df.head()"
   ]
  },
  {
   "cell_type": "code",
   "execution_count": 5,
   "id": "a3580154",
   "metadata": {},
   "outputs": [
    {
     "data": {
      "text/html": [
       "<div>\n",
       "<style scoped>\n",
       "    .dataframe tbody tr th:only-of-type {\n",
       "        vertical-align: middle;\n",
       "    }\n",
       "\n",
       "    .dataframe tbody tr th {\n",
       "        vertical-align: top;\n",
       "    }\n",
       "\n",
       "    .dataframe thead th {\n",
       "        text-align: right;\n",
       "    }\n",
       "</style>\n",
       "<table border=\"1\" class=\"dataframe\">\n",
       "  <thead>\n",
       "    <tr style=\"text-align: right;\">\n",
       "      <th></th>\n",
       "      <th>Close</th>\n",
       "      <th>Low</th>\n",
       "    </tr>\n",
       "    <tr>\n",
       "      <th>Datetime</th>\n",
       "      <th></th>\n",
       "      <th></th>\n",
       "    </tr>\n",
       "  </thead>\n",
       "  <tbody>\n",
       "    <tr>\n",
       "      <th>2024-05-03 09:30:00-04:00</th>\n",
       "      <td>168.949997</td>\n",
       "      <td>168.949997</td>\n",
       "    </tr>\n",
       "    <tr>\n",
       "      <th>2024-05-03 09:31:00-04:00</th>\n",
       "      <td>169.220001</td>\n",
       "      <td>168.970001</td>\n",
       "    </tr>\n",
       "    <tr>\n",
       "      <th>2024-05-03 09:32:00-04:00</th>\n",
       "      <td>169.270004</td>\n",
       "      <td>169.190002</td>\n",
       "    </tr>\n",
       "    <tr>\n",
       "      <th>2024-05-03 09:33:00-04:00</th>\n",
       "      <td>168.929993</td>\n",
       "      <td>168.850006</td>\n",
       "    </tr>\n",
       "    <tr>\n",
       "      <th>2024-05-03 09:34:00-04:00</th>\n",
       "      <td>168.520004</td>\n",
       "      <td>168.520004</td>\n",
       "    </tr>\n",
       "  </tbody>\n",
       "</table>\n",
       "</div>"
      ],
      "text/plain": [
       "                                Close         Low\n",
       "Datetime                                         \n",
       "2024-05-03 09:30:00-04:00  168.949997  168.949997\n",
       "2024-05-03 09:31:00-04:00  169.220001  168.970001\n",
       "2024-05-03 09:32:00-04:00  169.270004  169.190002\n",
       "2024-05-03 09:33:00-04:00  168.929993  168.850006\n",
       "2024-05-03 09:34:00-04:00  168.520004  168.520004"
      ]
     },
     "execution_count": 5,
     "metadata": {},
     "output_type": "execute_result"
    }
   ],
   "source": [
    "df = google.history(period='1d', interval=\"1m\")\n",
    "df = df[['Close', 'Low']]\n",
    "df.head()"
   ]
  },
  {
   "cell_type": "code",
   "execution_count": 6,
   "id": "6b2facd6",
   "metadata": {},
   "outputs": [
    {
     "data": {
      "text/html": [
       "<div>\n",
       "<style scoped>\n",
       "    .dataframe tbody tr th:only-of-type {\n",
       "        vertical-align: middle;\n",
       "    }\n",
       "\n",
       "    .dataframe tbody tr th {\n",
       "        vertical-align: top;\n",
       "    }\n",
       "\n",
       "    .dataframe thead th {\n",
       "        text-align: right;\n",
       "    }\n",
       "</style>\n",
       "<table border=\"1\" class=\"dataframe\">\n",
       "  <thead>\n",
       "    <tr style=\"text-align: right;\">\n",
       "      <th></th>\n",
       "      <th>Close</th>\n",
       "      <th>Low</th>\n",
       "    </tr>\n",
       "    <tr>\n",
       "      <th>date</th>\n",
       "      <th></th>\n",
       "      <th></th>\n",
       "    </tr>\n",
       "  </thead>\n",
       "  <tbody>\n",
       "    <tr>\n",
       "      <th>09:30:00</th>\n",
       "      <td>168.949997</td>\n",
       "      <td>168.949997</td>\n",
       "    </tr>\n",
       "    <tr>\n",
       "      <th>09:31:00</th>\n",
       "      <td>169.220001</td>\n",
       "      <td>168.970001</td>\n",
       "    </tr>\n",
       "    <tr>\n",
       "      <th>09:32:00</th>\n",
       "      <td>169.270004</td>\n",
       "      <td>169.190002</td>\n",
       "    </tr>\n",
       "    <tr>\n",
       "      <th>09:33:00</th>\n",
       "      <td>168.929993</td>\n",
       "      <td>168.850006</td>\n",
       "    </tr>\n",
       "    <tr>\n",
       "      <th>09:34:00</th>\n",
       "      <td>168.520004</td>\n",
       "      <td>168.520004</td>\n",
       "    </tr>\n",
       "  </tbody>\n",
       "</table>\n",
       "</div>"
      ],
      "text/plain": [
       "               Close         Low\n",
       "date                            \n",
       "09:30:00  168.949997  168.949997\n",
       "09:31:00  169.220001  168.970001\n",
       "09:32:00  169.270004  169.190002\n",
       "09:33:00  168.929993  168.850006\n",
       "09:34:00  168.520004  168.520004"
      ]
     },
     "execution_count": 6,
     "metadata": {},
     "output_type": "execute_result"
    }
   ],
   "source": [
    "df['date'] = pd.to_datetime(df.index).time\n",
    "df.set_index('date', inplace=True)\n",
    "df.head()"
   ]
  },
  {
   "cell_type": "code",
   "execution_count": 7,
   "id": "285d600a",
   "metadata": {},
   "outputs": [],
   "source": [
    "X = df.index.values\n",
    "y = df['Low'].values\n",
    "# The split point is the 10% of the dataframe length\n",
    "offset = int(0.10*len(df))\n",
    "X_train = X[:-offset]\n",
    "y_train = y[:-offset]\n",
    "X_test  = X[-offset:]\n",
    "y_test  = y[-offset:]"
   ]
  },
  {
   "cell_type": "code",
   "execution_count": 8,
   "id": "f1e32f90",
   "metadata": {
    "scrolled": false
   },
   "outputs": [
    {
     "data": {
      "image/png": "[encoded data removed]",
      "text/plain": [
       "<Figure size 640x480 with 1 Axes>"
      ]
     },
     "metadata": {},
     "output_type": "display_data"
    }
   ],
   "source": [
    "plt.plot(range(0,len(y_train)),y_train, label='Train')\n",
    "plt.plot(range(len(y_train),len(y)),y_test,label='Test')\n",
    "plt.legend()\n",
    "plt.show()"
   ]
  },
  {
   "cell_type": "code",
   "execution_count": 9,
   "id": "fdf4bd6a",
   "metadata": {},
   "outputs": [
    {
     "name": "stdout",
     "output_type": "stream",
     "text": [
      "Model score: 0.6666666666666666\n"
     ]
    }
   ],
   "source": [
    "import warnings\n",
    "from sklearn.exceptions import ConvergenceWarning\n",
    "from sklearn.linear_model import LogisticRegression\n",
    "\n",
    "\n",
    "def load_data():\n",
    "    X = [[1, 2], [3, 4], [5, 6]]\n",
    "    y = [0, 1, 0]\n",
    "    return X, y\n",
    "\n",
    "\n",
    "import warnings\n",
    "from sklearn.exceptions import ConvergenceWarning\n",
    "from sklearn.linear_model import LogisticRegression\n",
    "# Load your data\n",
    "X, y = load_data()\n",
    "\n",
    "# Create a logistic regression model\n",
    "model = LogisticRegression()\n",
    "\n",
    "# Fit the model\n",
    "with warnings.catch_warnings():\n",
    "    warnings.filterwarnings(\"error\", category=ConvergenceWarning)\n",
    "    try:\n",
    "        model.fit(X, y)\n",
    "    except ConvergenceWarning:\n",
    "        print(\"ConvergenceWarning: Maximum number of iterations exceeded\")\n",
    "# Evaluate the model\n",
    "score = model.score(X, y)\n",
    "print(\"Model score:\", score)\n"
   ]
  },
  {
   "cell_type": "code",
   "execution_count": 10,
   "id": "427a6af9",
   "metadata": {},
   "outputs": [],
   "source": [
    "last_close_price = df['Close'].iloc[-1]\n",
    "forecast = last_close_price\n"
   ]
  },
  {
   "cell_type": "code",
   "execution_count": 11,
   "id": "39b5c561",
   "metadata": {},
   "outputs": [
    {
     "name": "stdout",
     "output_type": "stream",
     "text": [
      "-------- Sura Belhekar-43 --------\n",
      "Real data for time 0: 167.0\n",
      "Real data for time 1: 167.06500244140625\n",
      "Real data for time 1: 167.17999267578125\n"
     ]
    }
   ],
   "source": [
    "print(\"-------- Sura Belhekar-43 --------\")\n",
    "print(f'Real data for time 0: {y_train[len(y_train)-1]}')\n",
    "print(f'Real data for time 1: {y_test[0]}')\n",
    "print(f'Real data for time 1: {forecast}')"
   ]
  }
 ],
 "metadata": {
  "kernelspec": {
   "display_name": "Python 3 (ipykernel)",
   "language": "python",
   "name": "python3"
  },
  "language_info": {
   "codemirror_mode": {
    "name": "ipython",
    "version": 3
   },
   "file_extension": ".py",
   "mimetype": "text/x-python",
   "name": "python",
   "nbconvert_exporter": "python",
   "pygments_lexer": "ipython3",
   "version": "3.11.3"
  }
 },
 "nbformat": 4,
 "nbformat_minor": 5
}
