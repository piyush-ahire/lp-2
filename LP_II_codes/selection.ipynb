{
 "cells": [
  {
   "cell_type": "code",
   "execution_count": 1,
   "id": "71d75ba3-b04a-4120-9324-3a9fb0a08195",
   "metadata": {},
   "outputs": [
    {
     "name": "stdin",
     "output_type": "stream",
     "text": [
      "Enter the array elements separated by space:  89 56 45 34 65\n"
     ]
    },
    {
     "name": "stdout",
     "output_type": "stream",
     "text": [
      "[34, 45, 56, 65, 89]\n"
     ]
    }
   ],
   "source": [
    "def selectionSort(arr):\n",
    "    for i in range(len(arr)):\n",
    "        min_index = i\n",
    "        for j in range(i + 1, len(arr)):\n",
    "            if arr[j] < arr[min_index]:\n",
    "                min_index = j\n",
    "        arr[i], arr[min_index] = arr[min_index], arr[i]\n",
    "    return arr\n",
    "\n",
    "arr = list(map(int, input(\"Enter the array elements separated by space: \").split()))\n",
    "print(selectionSort(arr))\n"
   ]
  },
  {
   "cell_type": "code",
   "execution_count": null,
   "id": "49755223-1d0a-4f60-b0a9-4cb22d31f2b6",
   "metadata": {},
   "outputs": [],
   "source": []
  }
 ],
 "metadata": {
  "kernelspec": {
   "display_name": "Python 3 (ipykernel)",
   "language": "python",
   "name": "python3"
  },
  "language_info": {
   "codemirror_mode": {
    "name": "ipython",
    "version": 3
   },
   "file_extension": ".py",
   "mimetype": "text/x-python",
   "name": "python",
   "nbconvert_exporter": "python",
   "pygments_lexer": "ipython3",
   "version": "3.11.7"
  }
 },
 "nbformat": 4,
 "nbformat_minor": 5
}
