{
 "cells": [
  {
   "cell_type": "code",
   "execution_count": 1,
   "id": "f6501715-250a-4332-9006-16b52ec1a5f6",
   "metadata": {},
   "outputs": [
    {
     "name": "stdin",
     "output_type": "stream",
     "text": [
      "Enter the number of edges:  6\n",
      "Enter the edge (source destination weight):  A B 2\n",
      "Enter the edge (source destination weight):  A C 5\n",
      "Enter the edge (source destination weight):  B C 1\n",
      "Enter the edge (source destination weight):  B D 3\n",
      "Enter the edge (source destination weight):  C D 1\n",
      "Enter the edge (source destination weight):  D D 0\n",
      "Enter the source node:  A\n"
     ]
    },
    {
     "name": "stdout",
     "output_type": "stream",
     "text": [
      "Shortest distances from A to all other nodes:\n",
      "Node: A Distance: 0\n",
      "Node: B Distance: 2\n",
      "Node: C Distance: 3\n",
      "Node: D Distance: 4\n"
     ]
    }
   ],
   "source": [
    "import sys\n",
    "\n",
    "def dijkstra(graph, source):\n",
    "    distances = {node: sys.maxsize for node in graph}\n",
    "    distances[source] = 0\n",
    "    unvisited = set(graph.keys())\n",
    "    \n",
    "    while unvisited:\n",
    "        current_node = min(unvisited, key=lambda node: distances[node])\n",
    "        unvisited.remove(current_node)\n",
    "        \n",
    "        for neighbor, weight in graph[current_node].items():\n",
    "            if neighbor in unvisited:\n",
    "                new_distance = distances[current_node] + weight\n",
    "                if new_distance < distances[neighbor]:\n",
    "                    distances[neighbor] = new_distance\n",
    "    \n",
    "    return distances\n",
    "\n",
    "graph = {}\n",
    "n = int(input(\"Enter the number of edges: \"))\n",
    "\n",
    "for i in range(n):\n",
    "    edge = input(\"Enter the edge (source destination weight): \").split()\n",
    "    source, destination, weight = edge[0], edge[1], int(edge[2])\n",
    "    \n",
    "    if source not in graph:\n",
    "        graph[source] = {}\n",
    "    graph[source][destination] = weight\n",
    "\n",
    "source = input(\"Enter the source node: \")\n",
    "\n",
    "if source not in graph:\n",
    "    print(\"Source node does not exist in the graph.\")\n",
    "else:\n",
    "    distances = dijkstra(graph, source)\n",
    "    print(\"Shortest distances from\", source, \"to all other nodes:\")\n",
    "    for node, distance in distances.items():\n",
    "        print(\"Node:\", node, \"Distance:\", distance)\n"
   ]
  },
  {
   "cell_type": "code",
   "execution_count": null,
   "id": "aefb9b2d-9867-442d-927d-970c4d698c09",
   "metadata": {},
   "outputs": [],
   "source": []
  }
 ],
 "metadata": {
  "kernelspec": {
   "display_name": "Python 3 (ipykernel)",
   "language": "python",
   "name": "python3"
  },
  "language_info": {
   "codemirror_mode": {
    "name": "ipython",
    "version": 3
   },
   "file_extension": ".py",
   "mimetype": "text/x-python",
   "name": "python",
   "nbconvert_exporter": "python",
   "pygments_lexer": "ipython3",
   "version": "3.11.7"
  }
 },
 "nbformat": 4,
 "nbformat_minor": 5
}
