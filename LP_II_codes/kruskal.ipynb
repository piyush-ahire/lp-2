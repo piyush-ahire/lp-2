{
 "cells": [
  {
   "cell_type": "code",
   "execution_count": 1,
   "id": "43fc147b-bcd6-4aaf-8939-33a1a7ad07c9",
   "metadata": {},
   "outputs": [
    {
     "name": "stdin",
     "output_type": "stream",
     "text": [
      "Enter the number of vertices:  5\n",
      "Enter the number of edges:  7\n"
     ]
    },
    {
     "name": "stdout",
     "output_type": "stream",
     "text": [
      "Enter the edges and their weights:\n"
     ]
    },
    {
     "name": "stdin",
     "output_type": "stream",
     "text": [
      " 0 1 4\n",
      " 0 2 1\n",
      " 1 2 2\n",
      " 1 3 5\n",
      " 2 3 1\n",
      " 2 4 6\n",
      " 3 4 8\n"
     ]
    },
    {
     "name": "stdout",
     "output_type": "stream",
     "text": [
      "Edges in the constructed MST:\n",
      "0 -- 2 == 1\n",
      "2 -- 3 == 1\n",
      "1 -- 2 == 2\n",
      "2 -- 4 == 6\n",
      "Minimum Spanning Tree: 10\n"
     ]
    }
   ],
   "source": [
    "class Graph:\n",
    "    def __init__(self, vertices):\n",
    "        self.V = vertices\n",
    "        self.graph = []\n",
    "\n",
    "    def add_edge(self, u, v, w):\n",
    "        self.graph.append([u, v, w])\n",
    "\n",
    "    def find(self, parent, i):\n",
    "        if parent[i] != i:\n",
    "            parent[i] = self.find(parent, parent[i])\n",
    "        return parent[i]\n",
    "\n",
    "    def union(self, parent, rank, x, y):\n",
    "        if rank[x] < rank[y]:\n",
    "            parent[x] = y\n",
    "        elif rank[x] > rank[y]:\n",
    "            parent[y] = x\n",
    "        else:\n",
    "            parent[y] = x\n",
    "            rank[x] += 1\n",
    "\n",
    "    def kruskal_mst(self):\n",
    "        result = []\n",
    "        edge_count = 0\n",
    "        self.graph = sorted(self.graph, key=lambda item: item[2])\n",
    "        parent = [i for i in range(self.V)]\n",
    "        rank = [0] * self.V\n",
    "\n",
    "        for i in range(len(self.graph)):\n",
    "            u, v, w = self.graph[i]\n",
    "            x = self.find(parent, u)\n",
    "            y = self.find(parent, v)\n",
    "            if x != y:\n",
    "                edge_count += 1\n",
    "                result.append([u, v, w])\n",
    "                self.union(parent, rank, x, y)\n",
    "            if edge_count == self.V - 1:\n",
    "                break\n",
    "\n",
    "        minimum_cost = 0\n",
    "        print(\"Edges in the constructed MST:\")\n",
    "        for u, v, weight in result:\n",
    "            minimum_cost += weight\n",
    "            print(\"%d -- %d == %d\" % (u, v, weight))\n",
    "        print(\"Minimum Spanning Tree:\", minimum_cost)\n",
    "\n",
    "if __name__ == '__main__':\n",
    "    vertices = int(input(\"Enter the number of vertices: \"))\n",
    "    g = Graph(vertices)\n",
    "    edges = int(input(\"Enter the number of edges: \"))\n",
    "    print(\"Enter the edges and their weights:\")\n",
    "    for i in range(edges):\n",
    "        u, v, w = map(int, input().split())\n",
    "        g.add_edge(u, v, w)\n",
    "    g.kruskal_mst()\n"
   ]
  },
  {
   "cell_type": "code",
   "execution_count": null,
   "id": "7f4848b2-e58c-413d-bddd-2aabb8b8a9a1",
   "metadata": {},
   "outputs": [],
   "source": []
  }
 ],
 "metadata": {
  "kernelspec": {
   "display_name": "Python 3 (ipykernel)",
   "language": "python",
   "name": "python3"
  },
  "language_info": {
   "codemirror_mode": {
    "name": "ipython",
    "version": 3
   },
   "file_extension": ".py",
   "mimetype": "text/x-python",
   "name": "python",
   "nbconvert_exporter": "python",
   "pygments_lexer": "ipython3",
   "version": "3.11.7"
  }
 },
 "nbformat": 4,
 "nbformat_minor": 5
}
