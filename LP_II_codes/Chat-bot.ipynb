{
 "cells": [
  {
   "cell_type": "code",
   "execution_count": 2,
   "id": "1be93eff",
   "metadata": {},
   "outputs": [
    {
     "name": "stdin",
     "output_type": "stream",
     "text": [
      "User:  hii\n"
     ]
    },
    {
     "name": "stdout",
     "output_type": "stream",
     "text": [
      "Bot: Welcome!\n"
     ]
    },
    {
     "name": "stdin",
     "output_type": "stream",
     "text": [
      "User:  hello\n"
     ]
    },
    {
     "name": "stdout",
     "output_type": "stream",
     "text": [
      "Bot: Hello!\n"
     ]
    },
    {
     "name": "stdin",
     "output_type": "stream",
     "text": [
      "User:  goodbye\n"
     ]
    },
    {
     "name": "stdout",
     "output_type": "stream",
     "text": [
      "Bot: Take care!\n",
      "Bot: Goodbye!\n"
     ]
    }
   ],
   "source": [
    "# Importing required libraries\n",
    "import random\n",
    "\n",
    "# Dictionary of predefined responses\n",
    "responses = {\n",
    "    \"greeting\": [\"Hello!\", \"Hi!\", \"Welcome!\"],\n",
    "    \"farewell\": [\"Goodbye!\", \"See you later!\", \"Take care!\"],\n",
    "    \"thanks\": [\"You're welcome!\", \"No problem!\", \"My pleasure!\"],\n",
    "    \"default\": [\"I'm sorry, I didn't understand.\", \"Could you please rephrase that?\", \"I'm still learning. Can you provide more information?\"]\n",
    "}\n",
    "\n",
    "# Function to generate a response based on user input\n",
    "def generate_response(user_input):\n",
    "    user_input = user_input.lower()\n",
    "\n",
    "    # Check for common keywords in user input\n",
    "    if \"hello\" in user_input or \"hi\" in user_input:\n",
    "        return random.choice(responses[\"greeting\"])\n",
    "    elif \"goodbye\" in user_input or \"bye\" in user_input:\n",
    "        return random.choice(responses[\"farewell\"])  # Modified to choose farewell response\n",
    "    elif \"thank\" in user_input:\n",
    "        return random.choice(responses[\"thanks\"])\n",
    "    else:\n",
    "        return random.choice(responses[\"default\"])\n",
    "\n",
    "# Main interaction loop\n",
    "while True:\n",
    "    # Get user input\n",
    "    user_input = input(\"User: \")\n",
    "\n",
    "    # Generate and display bot response\n",
    "    bot_response = generate_response(user_input)\n",
    "    print(\"Bot:\", bot_response)\n",
    "\n",
    "    # Check if user input contains \"goodbye\" and exit loop if it does\n",
    "    if \"goodbye\" in user_input or \"bye\" in user_input:\n",
    "        print(\"Bot: Goodbye!\")\n",
    "        break\n"
   ]
  },
  {
   "cell_type": "code",
   "execution_count": null,
   "id": "4efa84fd",
   "metadata": {},
   "outputs": [],
   "source": []
  }
 ],
 "metadata": {
  "kernelspec": {
   "display_name": "Python 3 (ipykernel)",
   "language": "python",
   "name": "python3"
  },
  "language_info": {
   "codemirror_mode": {
    "name": "ipython",
    "version": 3
   },
   "file_extension": ".py",
   "mimetype": "text/x-python",
   "name": "python",
   "nbconvert_exporter": "python",
   "pygments_lexer": "ipython3",
   "version": "3.11.7"
  }
 },
 "nbformat": 4,
 "nbformat_minor": 5
}
