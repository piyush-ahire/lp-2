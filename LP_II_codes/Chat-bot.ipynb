{
 "cells": [
  {
   "cell_type": "code",
   "execution_count": 2,
   "id": "1be93eff",
   "metadata": {},
   "outputs": [
    {
     "name": "stdin",
     "output_type": "stream",
     "text": [
      "User:  hi\n"
     ]
    },
    {
     "name": "stdout",
     "output_type": "stream",
     "text": [
      "Bot: Hello!\n"
     ]
    },
    {
     "name": "stdin",
     "output_type": "stream",
     "text": [
      "User:  search tiger\n"
     ]
    },
    {
     "name": "stdout",
     "output_type": "stream",
     "text": [
      "Bot: I'm still learning. Can you provide more information?\n"
     ]
    },
    {
     "name": "stdin",
     "output_type": "stream",
     "text": [
      "User:  exit\n"
     ]
    },
    {
     "name": "stdout",
     "output_type": "stream",
     "text": [
      "Bot: Goodbye!\n"
     ]
    }
   ],
   "source": [
    "import random\n",
    "import webbrowser\n",
    "import sys\n",
    "\n",
    "responses = {\n",
    "    \"greeting\": [\"Hello!\", \"Hi!\", \"Welcome!\"],\n",
    "    \"farewell\": [\"Goodbye!\", \"See you later!\", \"Take care!\"],\n",
    "    \"thanks\": [\"You're welcome!\", \"No problem!\", \"My pleasure!\"],\n",
    "    \"default\": [\"I'm sorry, I didn't understand.\", \"Could you please rephrase that?\", \"I'm still learning. Can you provide more information?\"]\n",
    "}\n",
    "\n",
    "def generate_response(user_input):\n",
    "    user_input = user_input.lower()\n",
    "    if \"hello\" in user_input or \"hi\" in user_input:\n",
    "        return random.choice(responses[\"greeting\"])\n",
    "    elif \"goodbye\" in user_input or \"bye\" in user_input:\n",
    "        return random.choice(responses[\"farewell\"])\n",
    "    elif \"thank\" in user_input:\n",
    "        return random.choice(responses[\"thanks\"])\n",
    "    elif \"exit\" in user_input:\n",
    "        return \"Goodbye!\"\n",
    "    else:\n",
    "        web_search(user_input)\n",
    "        return random.choice(responses[\"default\"])\n",
    "\n",
    "def web_search(query):\n",
    "    search_url = \"https://www.google.com/search?q=\" + query.replace(\" \", \"+\")\n",
    "    webbrowser.open(search_url)\n",
    "\n",
    "while True:\n",
    "    user_input = input(\"User: \")\n",
    "    bot_response = generate_response(user_input)\n",
    "    print(\"Bot:\", bot_response)\n",
    "    if \"exit\" in user_input:\n",
    "        break\n"
   ]
  },
  {
   "cell_type": "code",
   "execution_count": null,
   "id": "e0deff35-6bd5-4c5c-86b9-465a92b32e98",
   "metadata": {},
   "outputs": [],
   "source": []
  }
 ],
 "metadata": {
  "kernelspec": {
   "display_name": "Python 3 (ipykernel)",
   "language": "python",
   "name": "python3"
  },
  "language_info": {
   "codemirror_mode": {
    "name": "ipython",
    "version": 3
   },
   "file_extension": ".py",
   "mimetype": "text/x-python",
   "name": "python",
   "nbconvert_exporter": "python",
   "pygments_lexer": "ipython3",
   "version": "3.11.7"
  }
 },
 "nbformat": 4,
 "nbformat_minor": 5
}
