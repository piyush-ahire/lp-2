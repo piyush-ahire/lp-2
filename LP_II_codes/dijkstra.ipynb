{
 "cells": [
  {
   "cell_type": "code",
   "execution_count": 1,
   "id": "7a627e49-1eb9-42f9-bace-4903bff7e659",
   "metadata": {},
   "outputs": [
    {
     "name": "stdin",
     "output_type": "stream",
     "text": [
      "Enter the number of vertices:  5\n"
     ]
    },
    {
     "name": "stdout",
     "output_type": "stream",
     "text": [
      "Enter the graph matrix:\n"
     ]
    },
    {
     "name": "stdin",
     "output_type": "stream",
     "text": [
      " 0 2 4 0 0\n",
      " 2 0 3 7 0\n",
      " 4 3 0 1 5\n",
      " 0 7 1 0 3\n",
      " 0 0 5 3 0\n",
      "Enter the source vertex:  0\n"
     ]
    },
    {
     "name": "stdout",
     "output_type": "stream",
     "text": [
      "Vertex \tDistance from Source\n",
      "0 \t 0\n",
      "1 \t 2\n",
      "2 \t 4\n",
      "3 \t 5\n",
      "4 \t 8\n"
     ]
    }
   ],
   "source": [
    "import sys\n",
    "\n",
    "class Graph:\n",
    "    def __init__(self, vertices):\n",
    "        self.V = vertices\n",
    "        self.graph = [[0 for _ in range(vertices)] for _ in range(vertices)]\n",
    "\n",
    "    def print_solution(self, dist):\n",
    "        print(\"Vertex \\tDistance from Source\")\n",
    "        for node in range(self.V):\n",
    "            print(node, \"\\t\", dist[node] if dist[node] != sys.maxsize else \"Infinity\")\n",
    "\n",
    "    def min_distance(self, dist, visited):\n",
    "        min_dist = sys.maxsize\n",
    "        min_index = -1\n",
    "        for u in range(self.V):\n",
    "            if dist[u] < min_dist and not visited[u]:\n",
    "                min_dist = dist[u]\n",
    "                min_index = u\n",
    "        return min_index\n",
    "\n",
    "    def dijkstra(self, src):\n",
    "        dist = [sys.maxsize] * self.V\n",
    "        dist[src] = 0\n",
    "        visited = [False] * self.V\n",
    "\n",
    "        for _ in range(self.V):\n",
    "            u = self.min_distance(dist, visited)\n",
    "            visited[u] = True\n",
    "            for v in range(self.V):\n",
    "                if not visited[v] and self.graph[u][v] != 0 and dist[v] > dist[u] + self.graph[u][v]:\n",
    "                    dist[v] = dist[u] + self.graph[u][v]\n",
    "        \n",
    "        self.print_solution(dist)\n",
    "\n",
    "if __name__ == \"__main__\":\n",
    "    vertices = int(input(\"Enter the number of vertices: \"))\n",
    "    g = Graph(vertices)\n",
    "    print(\"Enter the graph matrix:\")\n",
    "    for i in range(vertices):\n",
    "        row = list(map(int, input().split()))\n",
    "        g.graph[i] = row\n",
    "    src = int(input(\"Enter the source vertex: \"))\n",
    "    g.dijkstra(src)\n"
   ]
  },
  {
   "cell_type": "code",
   "execution_count": null,
   "id": "69aacd39-66d2-4e5c-86b9-b63196d3c46e",
   "metadata": {},
   "outputs": [],
   "source": []
  }
 ],
 "metadata": {
  "kernelspec": {
   "display_name": "Python 3 (ipykernel)",
   "language": "python",
   "name": "python3"
  },
  "language_info": {
   "codemirror_mode": {
    "name": "ipython",
    "version": 3
   },
   "file_extension": ".py",
   "mimetype": "text/x-python",
   "name": "python",
   "nbconvert_exporter": "python",
   "pygments_lexer": "ipython3",
   "version": "3.11.7"
  }
 },
 "nbformat": 4,
 "nbformat_minor": 5
}
